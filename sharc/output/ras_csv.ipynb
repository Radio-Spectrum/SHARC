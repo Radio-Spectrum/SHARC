{
 "cells": [
  {
   "cell_type": "code",
   "execution_count": 4,
   "metadata": {},
   "outputs": [],
   "source": [
    "import os\n",
    "import pandas as pd"
   ]
  },
  {
   "cell_type": "code",
   "execution_count": 5,
   "metadata": {},
   "outputs": [],
   "source": [
    "def salvar_em_csv(valor_label):\n",
    "    # Definir o diretório atual e a pasta de destino\n",
    "    directory = os.getcwd()\n",
    "    pasta_destino = os.path.join(directory, 'RAS')\n",
    "\n",
    "    # Criar a pasta de destino se não existir\n",
    "    if not os.path.exists(pasta_destino):\n",
    "        os.makedirs(pasta_destino)\n",
    "\n",
    "    # Listar todos os arquivos .txt no diretório atual que contêm \"CDF\" no nome\n",
    "    all_files = [f for f in os.listdir(directory) if f.endswith('.txt') and 'CDF' in f]\n",
    "    print(\"Arquivos .txt encontrados com 'CDF' no nome:\", all_files)\n",
    "\n",
    "    for file in all_files:\n",
    "        try:\n",
    "            # Ler o arquivo .txt utilizando pandas, assumindo que há duas colunas\n",
    "            file_path = os.path.join(directory, file)\n",
    "            data = pd.read_csv(file_path, sep=r'\\s+', header=None, usecols=[0, 1])\n",
    "            \n",
    "            # Criar o nome do arquivo .csv com a label\n",
    "            nome_base = os.path.splitext(file)[0].replace(' ', '_')\n",
    "            nome_csv = f\"RAS_{valor_label}_km_{nome_base}.csv\"\n",
    "            caminho_csv = os.path.join(pasta_destino, nome_csv)\n",
    "            \n",
    "            # Salvar os dados em um arquivo .csv\n",
    "            data.to_csv(caminho_csv, index=False)\n",
    "            print(f\"Arquivo salvo: {caminho_csv}\")\n",
    "        except Exception as e:\n",
    "            print(f\"Erro ao processar o arquivo {file}: {e}\")"
   ]
  },
  {
   "cell_type": "code",
   "execution_count": 7,
   "metadata": {},
   "outputs": [
    {
     "name": "stdout",
     "output_type": "stream",
     "text": [
      "Arquivos .txt encontrados com 'CDF' no nome: ['[IMT] CDF of BS antenna gain towards the UE.txt', '[IMT] CDF of coupling loss.txt', '[IMT] CDF of DL SINR.txt', '[IMT] CDF of DL SNR.txt', '[IMT] CDF of DL throughput.txt', '[IMT] CDF of DL transmit power.txt', '[IMT] CDF of IMT station antenna gain towards system.txt', '[IMT] CDF of path loss.txt', '[IMT] CDF of UE antenna gain towards the BS.txt', '[SYS] CDF of IMT to system path loss.txt', '[SYS] CDF of system antenna gain towards IMT stations.txt', '[SYS] CDF of system INR.txt', '[SYS] CDF of system interference power from IMT DL.txt', '[SYS] CDF of system PFD.txt']\n",
      "Arquivo salvo: c:\\Users\\danie\\OneDrive\\Documentos\\GitHub\\SHARC\\sharc\\output\\RAS\\RAS_150_km_[IMT]_CDF_of_BS_antenna_gain_towards_the_UE.csv\n",
      "Arquivo salvo: c:\\Users\\danie\\OneDrive\\Documentos\\GitHub\\SHARC\\sharc\\output\\RAS\\RAS_150_km_[IMT]_CDF_of_coupling_loss.csv\n",
      "Arquivo salvo: c:\\Users\\danie\\OneDrive\\Documentos\\GitHub\\SHARC\\sharc\\output\\RAS\\RAS_150_km_[IMT]_CDF_of_DL_SINR.csv\n",
      "Arquivo salvo: c:\\Users\\danie\\OneDrive\\Documentos\\GitHub\\SHARC\\sharc\\output\\RAS\\RAS_150_km_[IMT]_CDF_of_DL_SNR.csv\n",
      "Arquivo salvo: c:\\Users\\danie\\OneDrive\\Documentos\\GitHub\\SHARC\\sharc\\output\\RAS\\RAS_150_km_[IMT]_CDF_of_DL_throughput.csv\n",
      "Arquivo salvo: c:\\Users\\danie\\OneDrive\\Documentos\\GitHub\\SHARC\\sharc\\output\\RAS\\RAS_150_km_[IMT]_CDF_of_DL_transmit_power.csv\n",
      "Arquivo salvo: c:\\Users\\danie\\OneDrive\\Documentos\\GitHub\\SHARC\\sharc\\output\\RAS\\RAS_150_km_[IMT]_CDF_of_IMT_station_antenna_gain_towards_system.csv\n",
      "Arquivo salvo: c:\\Users\\danie\\OneDrive\\Documentos\\GitHub\\SHARC\\sharc\\output\\RAS\\RAS_150_km_[IMT]_CDF_of_path_loss.csv\n",
      "Arquivo salvo: c:\\Users\\danie\\OneDrive\\Documentos\\GitHub\\SHARC\\sharc\\output\\RAS\\RAS_150_km_[IMT]_CDF_of_UE_antenna_gain_towards_the_BS.csv\n",
      "Arquivo salvo: c:\\Users\\danie\\OneDrive\\Documentos\\GitHub\\SHARC\\sharc\\output\\RAS\\RAS_150_km_[SYS]_CDF_of_IMT_to_system_path_loss.csv\n",
      "Arquivo salvo: c:\\Users\\danie\\OneDrive\\Documentos\\GitHub\\SHARC\\sharc\\output\\RAS\\RAS_150_km_[SYS]_CDF_of_system_antenna_gain_towards_IMT_stations.csv\n",
      "Arquivo salvo: c:\\Users\\danie\\OneDrive\\Documentos\\GitHub\\SHARC\\sharc\\output\\RAS\\RAS_150_km_[SYS]_CDF_of_system_INR.csv\n",
      "Arquivo salvo: c:\\Users\\danie\\OneDrive\\Documentos\\GitHub\\SHARC\\sharc\\output\\RAS\\RAS_150_km_[SYS]_CDF_of_system_interference_power_from_IMT_DL.csv\n",
      "Arquivo salvo: c:\\Users\\danie\\OneDrive\\Documentos\\GitHub\\SHARC\\sharc\\output\\RAS\\RAS_150_km_[SYS]_CDF_of_system_PFD.csv\n"
     ]
    }
   ],
   "source": [
    "# Chamar a função com o valor de entrada desejado\n",
    "salvar_em_csv(150)"
   ]
  },
  {
   "cell_type": "code",
   "execution_count": null,
   "metadata": {},
   "outputs": [],
   "source": []
  }
 ],
 "metadata": {
  "kernelspec": {
   "display_name": "Python 3",
   "language": "python",
   "name": "python3"
  },
  "language_info": {
   "codemirror_mode": {
    "name": "ipython",
    "version": 3
   },
   "file_extension": ".py",
   "mimetype": "text/x-python",
   "name": "python",
   "nbconvert_exporter": "python",
   "pygments_lexer": "ipython3",
   "version": "3.12.3"
  }
 },
 "nbformat": 4,
 "nbformat_minor": 2
}
